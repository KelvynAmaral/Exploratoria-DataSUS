{
 "cells": [
  {
   "cell_type": "code",
   "execution_count": 1,
   "metadata": {},
   "outputs": [],
   "source": [
    "import pandas as pd"
   ]
  },
  {
   "cell_type": "code",
   "execution_count": 10,
   "metadata": {},
   "outputs": [],
   "source": [
    "dados_da_populacao = \"\"\"\n",
    "(habitantes)\n",
    "1\t São Paulo\t45 973 190\t44 411 238\t+3,51%\t21,88%\t Argentina (46 621 847)\n",
    "2\t Minas Gerais\t21 322 692\t20 538 718\t+3,86%\t10,11%\t Burquina Fasso (20 903 273)\n",
    "3\t Rio de Janeiro\t17 219 679\t16 054 524\t+7,25%\t7,91%\tCamboja Camboja (16 718 965)\n",
    "4\tBahia Bahia\t14 850 513\t14 141 626\t+5,01%\t6,96%\t Zimbabwe (14 862 924)\n",
    "5\t Paraná\t11 824 665\t11 444 380\t+3,32%\t5,64%\t Tunísia (11 818 619)\n",
    "6\t Rio Grande do Sul\t11 229 915\t10 882 965\t+3,18%\t5,36%\tPortugal Portugal (10 343 066)\n",
    "7\t Pernambuco\t9 539 029\t9 058 931\t+5,29%\t4,46%\t Áustria (9 006 398)\n",
    "8\t Ceará\t9 233 656\t8 794 957\t+4.75%\t4,33%\t Papua-Nova Guiné (8 947 024)\n",
    "9\tPará Pará\t8 664 306\t8 121 025\t+6,68%\t4,1%\t Suíça (8 654 622)\n",
    "10\t Santa Catarina\t8 058 447\t7 610 361\t+5,56%\t3,75%\tLaos Laos (7 749 595)\n",
    "11\t Goiás\t7 350 483\t7 056 495\t+4,16%\t3,47%\t Bulgária (6 948 445)\n",
    "12\t Maranhão\t7 010 960\t6 775 805\t+3,47%\t3,34%\t Bulgária (6 948 445)\n",
    "13\t Amazonas\t4 281 209\t3 941 613\t+8,61%\t1,94%\t Geórgia (3 989 167)\n",
    "14\t Paraíba\t4 145 040\t3 974 687\t+4.28%\t1,96%\t Geórgia (3 989 167)\n",
    "15\t Espírito Santo\t4 102 129\t3 833 712\t+7,00%\t1,89%\t Geórgia (3 989 167)\n",
    "16\t Mato Grosso\t3 836 399\t3 658 649\t+4,85%\t1,8%\t Geórgia (3 989 167)\n",
    "17\t Rio Grande do Norte\t3 446 071\t3 302 729\t+4.34%\t1,63%\t Uruguai (3 473 730)\n",
    "18\t Piauí\t3 375 646\t3 271 199\t+3,19%\t1,61%\t Bósnia e Herzegovina (3 280 819)\n",
    "19\t Alagoas\t3 220 104\t3 127 683\t+2,95%\t1,54%\tMongólia Mongólia (3 278 290)\n",
    "20\t Distrito Federal\t2 982 815\t2 817 381\t+5,87%\t1,39%\t Armênia (2 963 243)\n",
    "21\t Mato Grosso do Sul\t2 901 895\t2 757 013\t+5,25%\t1,36%\t Albânia (2 877 797)\n",
    "22\t Sergipe\t2 291 077\t2 209 558\t+3,68%\t1,09%\t Gabão (2 225 734)\n",
    "23\t Rondônia\t1 746 227\t1 581 196\t+10,43%\t0,78%\t Bahrein (1 701 575)\n",
    "24\t Tocantins\t1 577 342\t1 511 460\t+4,35%\t0,74%\t Guiné Equatorial (1 402 985)\n",
    "25\t Acre\t880 631\t830 018\t+6,08%\t0,41%\t Comores (869 601)\n",
    "26\t Amapá\t802 837\t733 759\t+9.41%\t0,36%\t Guiana (786 552)\n",
    "27\t Roraima\t716 793\t636 707\t+12,57%\t0,31%\t Montenegro (649 335)\n",
    "Por região\n",
    "Posição\tRegião\tPopulação\n",
    "(Estimativa 2024)\n",
    "\n",
    "Mudança\tVariação bruta\t% da pop. total\tPaís comparável (habitantes)\n",
    "1\tRegião Sudeste\t88.617.693\t+5,57%\t+4.482.777\t41,80%\t Irã (86 143 838)\n",
    "2\tRegião Nordeste\t57.112.096\t+3,00%\t+1.562.632\t26,90%\t Myanmar (55 294 979)\n",
    "3\tRegião Sul\t31.113.021\t+9,29%\t+2.546.424\t14,70%\t Gana (30 832 019)\n",
    "4\tRegião Norte\t18.669.345\t+9,63%\t+1.485.165\t8,50%\t Países Baixos (17 790 060)\n",
    "5\tRegião Centro-Oeste\t17.071.595\t+15,86%\t+2.229.715\t8,0%\t Chade (16 818 391)\n",
    "Brasil\n",
    "Posição\tRegião\tPopulação estimada 2024[4]\tPopulação 2022\tVariação\tCrescimento\tPaís comparável (habitantes)\n",
    "1\tBrasil\t212 583 720\t203 080 756\t+9.502.994\t+4,67%\t Nigéria (218 541 000)\"\"\"\n",
    "\n",
    "# fonte: https://pt.wikipedia.org/wiki/Lista_de_unidades_federativas_do_Brasil_por_popula%C3%A7%C3%A3o\n",
    "#fonte indireta IBGE"
   ]
  },
  {
   "cell_type": "code",
   "execution_count": 4,
   "metadata": {},
   "outputs": [
    {
     "ename": "NameError",
     "evalue": "name 'pd' is not defined",
     "output_type": "error",
     "traceback": [
      "\u001b[1;31m---------------------------------------------------------------------------\u001b[0m",
      "\u001b[1;31mNameError\u001b[0m                                 Traceback (most recent call last)",
      "Cell \u001b[1;32mIn[4], line 1\u001b[0m\n\u001b[1;32m----> 1\u001b[0m dados_da_populacao \u001b[38;5;241m=\u001b[39m \u001b[43mpd\u001b[49m\u001b[38;5;241m.\u001b[39mread_csv(\u001b[38;5;124m'\u001b[39m\u001b[38;5;124mpopulacao.csv\u001b[39m\u001b[38;5;124m'\u001b[39m)\n",
      "\u001b[1;31mNameError\u001b[0m: name 'pd' is not defined"
     ]
    }
   ],
   "source": [
    "dados_da_populacao = pd.read_csv('populacao.csv')"
   ]
  },
  {
   "cell_type": "code",
   "execution_count": null,
   "metadata": {},
   "outputs": [],
   "source": []
  }
 ],
 "metadata": {
  "kernelspec": {
   "display_name": "Python 3",
   "language": "python",
   "name": "python3"
  },
  "language_info": {
   "codemirror_mode": {
    "name": "ipython",
    "version": 3
   },
   "file_extension": ".py",
   "mimetype": "text/x-python",
   "name": "python",
   "nbconvert_exporter": "python",
   "pygments_lexer": "ipython3",
   "version": "3.12.3"
  }
 },
 "nbformat": 4,
 "nbformat_minor": 2
}
